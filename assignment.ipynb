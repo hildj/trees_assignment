{
  "cells": [
    {
      "cell_type": "markdown",
      "metadata": {
        "id": "view-in-github",
        "colab_type": "text"
      },
      "source": [
        "<a href=\"https://colab.research.google.com/github/hildj/trees_assignment/blob/main/assignment.ipynb\" target=\"_parent\"><img src=\"https://colab.research.google.com/assets/colab-badge.svg\" alt=\"Open In Colab\"/></a>"
      ]
    },
    {
      "cell_type": "markdown",
      "metadata": {
        "id": "Aer0X2Ivkjbq"
      },
      "source": [
        "# Assignment: Trees\n",
        "\n",
        "## Do two questions in total: \"Q1+Q2\" or \"Q1+Q3\"\n",
        "\n",
        "`! git clone https://github.com/ds3001f25/linear_models_assignment.git`"
      ]
    },
    {
      "cell_type": "markdown",
      "metadata": {
        "id": "HO24483wkjbt"
      },
      "source": [
        "**Q1.** Please answer the following questions in your own words.\n",
        "1. Why is the Gini a good loss function for categorical target variables?\n",
        "2. Why do trees tend to overfit, and how can this tendency be constrained?\n",
        "3. True or false, and explain: Trees only really perform well in situations with lots of categorical variables as features/covariates.\n",
        "4. Why don't most versions of classification/regression tree concept allow for more than two branches after a split?\n",
        "5. What are some heuristic ways you can examine a tree and decide whether it is probably over- or under-fitting?"
      ]
    },
    {
      "cell_type": "code",
      "execution_count": null,
      "metadata": {
        "id": "Qnd5wGE_kjbu"
      },
      "outputs": [],
      "source": []
    },
    {
      "cell_type": "markdown",
      "metadata": {
        "id": "rDHwVKpikjbv"
      },
      "source": [
        "**Q2.** This is a case study about classification and regression trees.\n",
        "\n",
        "1. Load the `Breast Cancer METABRIC.csv` dataset. How many observations and variables does it contain? Print out the first few rows of data.\n",
        "\n",
        "2.  We'll use a consistent set of feature/explanatory variables. For numeric variables, we'll include `Tumor Size`, `Lymph nodes examined positive`, `Age at Diagnosis`. For categorical variables, we'll include `Tumor Stage`, `Chemotherapy`, and `Cancer Type Detailed`. One-hot-encode the categorical variables and concatenate them with the numeric variables into a feature/covariate matrix, $X$.\n",
        "\n",
        "3. Let's predict `Overall Survival Status` given the features/covariates $X$. There are 528 missing values, unfortunately: Either drop those rows from your data or add them as a category to predict. Constrain the minimum samples per leaf to 10. Print a dendrogram of the tree. Print a confusion matrix of the algorithm's performance. What is the accuracy?\n",
        "\n",
        "4. For your model in part three, compute three statistics:\n",
        "    - The **true positive rate** or **sensitivity**:\n",
        "        $$\n",
        "        TPR = \\dfrac{TP}{TP+FN}\n",
        "        $$\n",
        "    - The **true negative rate** or **specificity**:\n",
        "        $$\n",
        "        TNR = \\dfrac{TN}{TN+FP}\n",
        "        $$\n",
        "    Does your model tend to perform better with respect to one of these metrics?\n",
        "\n",
        "5. Let's predict `Overall Survival (Months)` given the features/covariates $X$. Use the train/test split to pick the optimal `min_samples_leaf` value that gives the highest $R^2$ on the test set (it's about 110). What is the $R^2$? Plot the test values against the predicted values. How do you feel about this model for clinical purposes?"
      ]
    },
    {
      "cell_type": "code",
      "execution_count": null,
      "metadata": {
        "id": "bXKFhJ8-kjbw"
      },
      "outputs": [],
      "source": []
    },
    {
      "cell_type": "markdown",
      "metadata": {
        "id": "2MTXk8aAkjbw"
      },
      "source": [
        "**Q3.** This is a case study about trees using bond rating data. This is a dataset about bond ratings for different companies, alongside a bunch of business statistics and other data. Companies often have multiple reviews at different dates. We want to predict the bond rating (AAA, AA, A, BBB, BB, B, ..., C, D). Do business fundamentals predict the company's rating?\n",
        "\n",
        "1. Load the `./data/corporate_ratings.csv` dataset. How many observations and variables does it contain? Print out the first few rows of data.\n",
        "\n",
        "2.  Plot a histogram of the `ratings` variable. It turns out that the gradations of AAA/AA/A and BBB/BB/B and so on make it hard to get good results with trees. Collapse all AAA/AA/A ratings into just A, and similarly for B and C.\n",
        "\n",
        "3. Use all of the variables **except** Rating, Date, Name, Symbol, and Rating Agency Name. To include Sector, make a dummy/one-hot-encoded representation and include it in your features/covariates. Collect the relevant variables into a data matrix $X$.\n",
        "\n",
        "4. Do a train/test split of the data and use a decision tree classifier to predict the bond rating. Including a min_samples_leaf constraint can raise the accuracy and speed up computation time. Print a confusion matrix and the accuracy of your model. How well do you predict the different bond ratings?\n",
        "\n",
        "5. If you include the rating agency as a feature/covariate/predictor variable, do the results change? How do you interpret this?"
      ]
    },
    {
      "cell_type": "code",
      "source": [
        "import matplotlib.pyplot as plt\n",
        "import numpy as np\n",
        "\n",
        "collapse_map = {\n",
        "    'AAA': 'A', 'AA': 'A', 'A': 'A',\n",
        "    'BBB': 'B', 'BB': 'B', 'B': 'B',\n",
        "    'CCC': 'C', 'CC': 'C', 'C': 'C'\n",
        "}\n",
        "data['Collapsed_Rating'] = data['Rating'].replace(collapse_map)\n",
        "\n",
        "# Define mapping for plotting histogram\n",
        "rating_codes = {'A': 0, 'B': 1, 'C': 2, 'D': 3}\n",
        "\n",
        "# Create a numerical representation for plotting the histogram\n",
        "data['Rating_Code'] = data['Collapsed_Rating'].map(rating_codes)\n",
        "\n",
        "plt.figure(figsize=(8,5))\n",
        "# Use the numerical representation for plotting the histogram with correct bins\n",
        "data['Rating_Code'].plot(kind='hist', bins=np.arange(-0.5, len(rating_codes)+0.5, 1), rwidth=0.8, color='skyblue')\n",
        "# Set the x-axis ticks to be the rating labels\n",
        "plt.xticks(list(rating_codes.values()), list(rating_codes.keys()))\n",
        "plt.xlabel('Rating')\n",
        "plt.ylabel('Count')\n",
        "plt.title('Histogram of Collapsed Bond Ratings')\n",
        "plt.show()"
      ],
      "metadata": {
        "colab": {
          "base_uri": "https://localhost:8080/",
          "height": 452
        },
        "id": "UNVAFCtMzA5y",
        "outputId": "fe7c5b38-755e-401c-f532-ad4287832aa1"
      },
      "execution_count": 57,
      "outputs": [
        {
          "output_type": "display_data",
          "data": {
            "text/plain": [
              "<Figure size 800x500 with 1 Axes>"
            ],
            "image/png": "[encoded data removed]"
          },
          "metadata": {}
        }
      ]
    },
    {
      "cell_type": "code",
      "source": [
        "import pandas as pd\n",
        "\n",
        "# Corrected file path\n",
        "file_path = \"/content/trees_assignment/data/corporate_ratings.csv\"\n",
        "data = pd.read_csv(file_path)\n",
        "\n",
        "print(f\"Number of observations: {data.shape[0]}\")\n",
        "print(f\"Number of variables: {data.shape[1]}\")\n",
        "print(\"\\nFirst few rows of data:\")\n",
        "print(data.head())"
      ],
      "metadata": {
        "colab": {
          "base_uri": "https://localhost:8080/"
        },
        "id": "3fVlGfK4vFXZ",
        "outputId": "0898ff58-2562-4868-c407-29c05f39d38a"
      },
      "execution_count": 51,
      "outputs": [
        {
          "output_type": "stream",
          "name": "stdout",
          "text": [
            "Number of observations: 2029\n",
            "Number of variables: 31\n",
            "\n",
            "First few rows of data:\n",
            "  Rating                   Name Symbol                  Rating Agency Name  \\\n",
            "0      A  Whirlpool Corporation    WHR          Egan-Jones Ratings Company   \n",
            "1    BBB  Whirlpool Corporation    WHR          Egan-Jones Ratings Company   \n",
            "2    BBB  Whirlpool Corporation    WHR                       Fitch Ratings   \n",
            "3    BBB  Whirlpool Corporation    WHR                       Fitch Ratings   \n",
            "4    BBB  Whirlpool Corporation    WHR  Standard & Poor's Ratings Services   \n",
            "\n",
            "         Date             Sector  currentRatio  quickRatio  cashRatio  \\\n",
            "0  11/27/2015  Consumer Durables      0.945894    0.426395   0.099690   \n",
            "1   2/13/2014  Consumer Durables      1.033559    0.498234   0.203120   \n",
            "2    3/6/2015  Consumer Durables      0.963703    0.451505   0.122099   \n",
            "3   6/15/2012  Consumer Durables      1.019851    0.510402   0.176116   \n",
            "4  10/24/2016  Consumer Durables      0.957844    0.495432   0.141608   \n",
            "\n",
            "   daysOfSalesOutstanding  ...  effectiveTaxRate  \\\n",
            "0               44.203245  ...          0.202716   \n",
            "1               38.991156  ...          0.074155   \n",
            "2               50.841385  ...          0.214529   \n",
            "3               41.161738  ...          1.816667   \n",
            "4               47.761126  ...          0.166966   \n",
            "\n",
            "   freeCashFlowOperatingCashFlowRatio  freeCashFlowPerShare  cashPerShare  \\\n",
            "0                            0.437551              6.810673      9.809403   \n",
            "1                            0.541997              8.625473     17.402270   \n",
            "2                            0.513185              9.693487     13.103448   \n",
            "3                           -0.147170             -1.015625     14.440104   \n",
            "4                            0.451372              7.135348     14.257556   \n",
            "\n",
            "   companyEquityMultiplier  ebitPerRevenue  enterpriseValueMultiple  \\\n",
            "0                 4.008012        0.049351                 7.057088   \n",
            "1                 3.156783        0.048857                 6.460618   \n",
            "2                 4.094575        0.044334                10.491970   \n",
            "3                 3.630950       -0.012858                 4.080741   \n",
            "4                 4.012780        0.053770                 8.293505   \n",
            "\n",
            "   operatingCashFlowPerShare  operatingCashFlowSalesRatio  payablesTurnover  \n",
            "0                  15.565438                     0.058638          3.906655  \n",
            "1                  15.914250                     0.067239          4.002846  \n",
            "2                  18.888889                     0.074426          3.483510  \n",
            "3                   6.901042                     0.028394          4.581150  \n",
            "4                  15.808147                     0.058065          3.857790  \n",
            "\n",
            "[5 rows x 31 columns]\n"
          ]
        }
      ]
    },
    {
      "cell_type": "code",
      "source": [
        "! git clone https://github.com/hildj/trees_assignment"
      ],
      "metadata": {
        "colab": {
          "base_uri": "https://localhost:8080/"
        },
        "id": "PHmrLZ2ukxy9",
        "outputId": "07500240-2b6a-492a-ebed-ed1c45a6d23a"
      },
      "execution_count": 30,
      "outputs": [
        {
          "output_type": "stream",
          "name": "stdout",
          "text": [
            "fatal: destination path 'trees_assignment' already exists and is not an empty directory.\n"
          ]
        }
      ]
    },
    {
      "cell_type": "code",
      "source": [
        "import pandas as pd\n",
        "\n",
        "file_path = \"/content/trees_assignment/data/corporate_ratings.csv\"\n",
        "data = pd.read_csv(file_path)\n",
        "data.head()"
      ],
      "metadata": {
        "colab": {
          "base_uri": "https://localhost:8080/",
          "height": 481
        },
        "id": "HivxekvBt3XO",
        "outputId": "a2af8885-8886-4fb7-ab26-e924d907a06f"
      },
      "execution_count": 50,
      "outputs": [
        {
          "output_type": "execute_result",
          "data": {
            "text/plain": [
              "  Rating                   Name Symbol                  Rating Agency Name  \\\n",
              "0      A  Whirlpool Corporation    WHR          Egan-Jones Ratings Company   \n",
              "1    BBB  Whirlpool Corporation    WHR          Egan-Jones Ratings Company   \n",
              "2    BBB  Whirlpool Corporation    WHR                       Fitch Ratings   \n",
              "3    BBB  Whirlpool Corporation    WHR                       Fitch Ratings   \n",
              "4    BBB  Whirlpool Corporation    WHR  Standard & Poor's Ratings Services   \n",
              "\n",
              "         Date             Sector  currentRatio  quickRatio  cashRatio  \\\n",
              "0  11/27/2015  Consumer Durables      0.945894    0.426395   0.099690   \n",
              "1   2/13/2014  Consumer Durables      1.033559    0.498234   0.203120   \n",
              "2    3/6/2015  Consumer Durables      0.963703    0.451505   0.122099   \n",
              "3   6/15/2012  Consumer Durables      1.019851    0.510402   0.176116   \n",
              "4  10/24/2016  Consumer Durables      0.957844    0.495432   0.141608   \n",
              "\n",
              "   daysOfSalesOutstanding  ...  effectiveTaxRate  \\\n",
              "0               44.203245  ...          0.202716   \n",
              "1               38.991156  ...          0.074155   \n",
              "2               50.841385  ...          0.214529   \n",
              "3               41.161738  ...          1.816667   \n",
              "4               47.761126  ...          0.166966   \n",
              "\n",
              "   freeCashFlowOperatingCashFlowRatio  freeCashFlowPerShare  cashPerShare  \\\n",
              "0                            0.437551              6.810673      9.809403   \n",
              "1                            0.541997              8.625473     17.402270   \n",
              "2                            0.513185              9.693487     13.103448   \n",
              "3                           -0.147170             -1.015625     14.440104   \n",
              "4                            0.451372              7.135348     14.257556   \n",
              "\n",
              "   companyEquityMultiplier  ebitPerRevenue  enterpriseValueMultiple  \\\n",
              "0                 4.008012        0.049351                 7.057088   \n",
              "1                 3.156783        0.048857                 6.460618   \n",
              "2                 4.094575        0.044334                10.491970   \n",
              "3                 3.630950       -0.012858                 4.080741   \n",
              "4                 4.012780        0.053770                 8.293505   \n",
              "\n",
              "   operatingCashFlowPerShare  operatingCashFlowSalesRatio  payablesTurnover  \n",
              "0                  15.565438                     0.058638          3.906655  \n",
              "1                  15.914250                     0.067239          4.002846  \n",
              "2                  18.888889                     0.074426          3.483510  \n",
              "3                   6.901042                     0.028394          4.581150  \n",
              "4                  15.808147                     0.058065          3.857790  \n",
              "\n",
              "[5 rows x 31 columns]"
            ],
            "text/html": [
              "\n",
              "  <div id=\"df-d75184c8-c606-4eb2-939a-23be1008abb5\" class=\"colab-df-container\">\n",
              "    <div>\n",
              "<style scoped>\n",
              "    .dataframe tbody tr th:only-of-type {\n",
              "        vertical-align: middle;\n",
              "    }\n",
              "\n",
              "    .dataframe tbody tr th {\n",
              "        vertical-align: top;\n",
              "    }\n",
              "\n",
              "    .dataframe thead th {\n",
              "        text-align: right;\n",
              "    }\n",
              "</style>\n",
              "<table border=\"1\" class=\"dataframe\">\n",
              "  <thead>\n",
              "    <tr style=\"text-align: right;\">\n",
              "      <th></th>\n",
              "      <th>Rating</th>\n",
              "      <th>Name</th>\n",
              "      <th>Symbol</th>\n",
              "      <th>Rating Agency Name</th>\n",
              "      <th>Date</th>\n",
              "      <th>Sector</th>\n",
              "      <th>currentRatio</th>\n",
              "      <th>quickRatio</th>\n",
              "      <th>cashRatio</th>\n",
              "      <th>daysOfSalesOutstanding</th>\n",
              "      <th>...</th>\n",
              "      <th>effectiveTaxRate</th>\n",
              "      <th>freeCashFlowOperatingCashFlowRatio</th>\n",
              "      <th>freeCashFlowPerShare</th>\n",
              "      <th>cashPerShare</th>\n",
              "      <th>companyEquityMultiplier</th>\n",
              "      <th>ebitPerRevenue</th>\n",
              "      <th>enterpriseValueMultiple</th>\n",
              "      <th>operatingCashFlowPerShare</th>\n",
              "      <th>operatingCashFlowSalesRatio</th>\n",
              "      <th>payablesTurnover</th>\n",
              "    </tr>\n",
              "  </thead>\n",
              "  <tbody>\n",
              "    <tr>\n",
              "      <th>0</th>\n",
              "      <td>A</td>\n",
              "      <td>Whirlpool Corporation</td>\n",
              "      <td>WHR</td>\n",
              "      <td>Egan-Jones Ratings Company</td>\n",
              "      <td>11/27/2015</td>\n",
              "      <td>Consumer Durables</td>\n",
              "      <td>0.945894</td>\n",
              "      <td>0.426395</td>\n",
              "      <td>0.099690</td>\n",
              "      <td>44.203245</td>\n",
              "      <td>...</td>\n",
              "      <td>0.202716</td>\n",
              "      <td>0.437551</td>\n",
              "      <td>6.810673</td>\n",
              "      <td>9.809403</td>\n",
              "      <td>4.008012</td>\n",
              "      <td>0.049351</td>\n",
              "      <td>7.057088</td>\n",
              "      <td>15.565438</td>\n",
              "      <td>0.058638</td>\n",
              "      <td>3.906655</td>\n",
              "    </tr>\n",
              "    <tr>\n",
              "      <th>1</th>\n",
              "      <td>BBB</td>\n",
              "      <td>Whirlpool Corporation</td>\n",
              "      <td>WHR</td>\n",
              "      <td>Egan-Jones Ratings Company</td>\n",
              "      <td>2/13/2014</td>\n",
              "      <td>Consumer Durables</td>\n",
              "      <td>1.033559</td>\n",
              "      <td>0.498234</td>\n",
              "      <td>0.203120</td>\n",
              "      <td>38.991156</td>\n",
              "      <td>...</td>\n",
              "      <td>0.074155</td>\n",
              "      <td>0.541997</td>\n",
              "      <td>8.625473</td>\n",
              "      <td>17.402270</td>\n",
              "      <td>3.156783</td>\n",
              "      <td>0.048857</td>\n",
              "      <td>6.460618</td>\n",
              "      <td>15.914250</td>\n",
              "      <td>0.067239</td>\n",
              "      <td>4.002846</td>\n",
              "    </tr>\n",
              "    <tr>\n",
              "      <th>2</th>\n",
              "      <td>BBB</td>\n",
              "      <td>Whirlpool Corporation</td>\n",
              "      <td>WHR</td>\n",
              "      <td>Fitch Ratings</td>\n",
              "      <td>3/6/2015</td>\n",
              "      <td>Consumer Durables</td>\n",
              "      <td>0.963703</td>\n",
              "      <td>0.451505</td>\n",
              "      <td>0.122099</td>\n",
              "      <td>50.841385</td>\n",
              "      <td>...</td>\n",
              "      <td>0.214529</td>\n",
              "      <td>0.513185</td>\n",
              "      <td>9.693487</td>\n",
              "      <td>13.103448</td>\n",
              "      <td>4.094575</td>\n",
              "      <td>0.044334</td>\n",
              "      <td>10.491970</td>\n",
              "      <td>18.888889</td>\n",
              "      <td>0.074426</td>\n",
              "      <td>3.483510</td>\n",
              "    </tr>\n",
              "    <tr>\n",
              "      <th>3</th>\n",
              "      <td>BBB</td>\n",
              "      <td>Whirlpool Corporation</td>\n",
              "      <td>WHR</td>\n",
              "      <td>Fitch Ratings</td>\n",
              "      <td>6/15/2012</td>\n",
              "      <td>Consumer Durables</td>\n",
              "      <td>1.019851</td>\n",
              "      <td>0.510402</td>\n",
              "      <td>0.176116</td>\n",
              "      <td>41.161738</td>\n",
              "      <td>...</td>\n",
              "      <td>1.816667</td>\n",
              "      <td>-0.147170</td>\n",
              "      <td>-1.015625</td>\n",
              "      <td>14.440104</td>\n",
              "      <td>3.630950</td>\n",
              "      <td>-0.012858</td>\n",
              "      <td>4.080741</td>\n",
              "      <td>6.901042</td>\n",
              "      <td>0.028394</td>\n",
              "      <td>4.581150</td>\n",
              "    </tr>\n",
              "    <tr>\n",
              "      <th>4</th>\n",
              "      <td>BBB</td>\n",
              "      <td>Whirlpool Corporation</td>\n",
              "      <td>WHR</td>\n",
              "      <td>Standard &amp; Poor's Ratings Services</td>\n",
              "      <td>10/24/2016</td>\n",
              "      <td>Consumer Durables</td>\n",
              "      <td>0.957844</td>\n",
              "      <td>0.495432</td>\n",
              "      <td>0.141608</td>\n",
              "      <td>47.761126</td>\n",
              "      <td>...</td>\n",
              "      <td>0.166966</td>\n",
              "      <td>0.451372</td>\n",
              "      <td>7.135348</td>\n",
              "      <td>14.257556</td>\n",
              "      <td>4.012780</td>\n",
              "      <td>0.053770</td>\n",
              "      <td>8.293505</td>\n",
              "      <td>15.808147</td>\n",
              "      <td>0.058065</td>\n",
              "      <td>3.857790</td>\n",
              "    </tr>\n",
              "  </tbody>\n",
              "</table>\n",
              "<p>5 rows × 31 columns</p>\n",
              "</div>\n",
              "    <div class=\"colab-df-buttons\">\n",
              "\n",
              "  <div class=\"colab-df-container\">\n",
              "    <button class=\"colab-df-convert\" onclick=\"convertToInteractive('df-d75184c8-c606-4eb2-939a-23be1008abb5')\"\n",
              "            title=\"Convert this dataframe to an interactive table.\"\n",
              "            style=\"display:none;\">\n",
              "\n",
              "  <svg xmlns=\"http://www.w3.org/2000/svg\" height=\"24px\" viewBox=\"0 -960 960 960\">\n",
              "    <path d=\"M120-120v-720h720v720H120Zm60-500h600v-160H180v160Zm220 220h160v-160H400v160Zm0 220h160v-160H400v160ZM180-400h160v-160H180v160Zm440 0h160v-160H620v160ZM180-180h160v-160H180v160Zm440 0h160v-160H620v160Z\"/>\n",
              "  </svg>\n",
              "    </button>\n",
              "\n",
              "  <style>\n",
              "    .colab-df-container {\n",
              "      display:flex;\n",
              "      gap: 12px;\n",
              "    }\n",
              "\n",
              "    .colab-df-convert {\n",
              "      background-color: #E8F0FE;\n",
              "      border: none;\n",
              "      border-radius: 50%;\n",
              "      cursor: pointer;\n",
              "      display: none;\n",
              "      fill: #1967D2;\n",
              "      height: 32px;\n",
              "      padding: 0 0 0 0;\n",
              "      width: 32px;\n",
              "    }\n",
              "\n",
              "    .colab-df-convert:hover {\n",
              "      background-color: #E2EBFA;\n",
              "      box-shadow: 0px 1px 2px rgba(60, 64, 67, 0.3), 0px 1px 3px 1px rgba(60, 64, 67, 0.15);\n",
              "      fill: #174EA6;\n",
              "    }\n",
              "\n",
              "    .colab-df-buttons div {\n",
              "      margin-bottom: 4px;\n",
              "    }\n",
              "\n",
              "    [theme=dark] .colab-df-convert {\n",
              "      background-color: #3B4455;\n",
              "      fill: #D2E3FC;\n",
              "    }\n",
              "\n",
              "    [theme=dark] .colab-df-convert:hover {\n",
              "      background-color: #434B5C;\n",
              "      box-shadow: 0px 1px 3px 1px rgba(0, 0, 0, 0.15);\n",
              "      filter: drop-shadow(0px 1px 2px rgba(0, 0, 0, 0.3));\n",
              "      fill: #FFFFFF;\n",
              "    }\n",
              "  </style>\n",
              "\n",
              "    <script>\n",
              "      const buttonEl =\n",
              "        document.querySelector('#df-d75184c8-c606-4eb2-939a-23be1008abb5 button.colab-df-convert');\n",
              "      buttonEl.style.display =\n",
              "        google.colab.kernel.accessAllowed ? 'block' : 'none';\n",
              "\n",
              "      async function convertToInteractive(key) {\n",
              "        const element = document.querySelector('#df-d75184c8-c606-4eb2-939a-23be1008abb5');\n",
              "        const dataTable =\n",
              "          await google.colab.kernel.invokeFunction('convertToInteractive',\n",
              "                                                    [key], {});\n",
              "        if (!dataTable) return;\n",
              "\n",
              "        const docLinkHtml = 'Like what you see? Visit the ' +\n",
              "          '<a target=\"_blank\" href=https://colab.research.google.com/notebooks/data_table.ipynb>data table notebook</a>'\n",
              "          + ' to learn more about interactive tables.';\n",
              "        element.innerHTML = '';\n",
              "        dataTable['output_type'] = 'display_data';\n",
              "        await google.colab.output.renderOutput(dataTable, element);\n",
              "        const docLink = document.createElement('div');\n",
              "        docLink.innerHTML = docLinkHtml;\n",
              "        element.appendChild(docLink);\n",
              "      }\n",
              "    </script>\n",
              "  </div>\n",
              "\n",
              "\n",
              "    <div id=\"df-a9ef3b46-85f6-49c5-b869-4e48aa7805c7\">\n",
              "      <button class=\"colab-df-quickchart\" onclick=\"quickchart('df-a9ef3b46-85f6-49c5-b869-4e48aa7805c7')\"\n",
              "                title=\"Suggest charts\"\n",
              "                style=\"display:none;\">\n",
              "\n",
              "<svg xmlns=\"http://www.w3.org/2000/svg\" height=\"24px\"viewBox=\"0 0 24 24\"\n",
              "     width=\"24px\">\n",
              "    <g>\n",
              "        <path d=\"M19 3H5c-1.1 0-2 .9-2 2v14c0 1.1.9 2 2 2h14c1.1 0 2-.9 2-2V5c0-1.1-.9-2-2-2zM9 17H7v-7h2v7zm4 0h-2V7h2v10zm4 0h-2v-4h2v4z\"/>\n",
              "    </g>\n",
              "</svg>\n",
              "      </button>\n",
              "\n",
              "<style>\n",
              "  .colab-df-quickchart {\n",
              "      --bg-color: #E8F0FE;\n",
              "      --fill-color: #1967D2;\n",
              "      --hover-bg-color: #E2EBFA;\n",
              "      --hover-fill-color: #174EA6;\n",
              "      --disabled-fill-color: #AAA;\n",
              "      --disabled-bg-color: #DDD;\n",
              "  }\n",
              "\n",
              "  [theme=dark] .colab-df-quickchart {\n",
              "      --bg-color: #3B4455;\n",
              "      --fill-color: #D2E3FC;\n",
              "      --hover-bg-color: #434B5C;\n",
              "      --hover-fill-color: #FFFFFF;\n",
              "      --disabled-bg-color: #3B4455;\n",
              "      --disabled-fill-color: #666;\n",
              "  }\n",
              "\n",
              "  .colab-df-quickchart {\n",
              "    background-color: var(--bg-color);\n",
              "    border: none;\n",
              "    border-radius: 50%;\n",
              "    cursor: pointer;\n",
              "    display: none;\n",
              "    fill: var(--fill-color);\n",
              "    height: 32px;\n",
              "    padding: 0;\n",
              "    width: 32px;\n",
              "  }\n",
              "\n",
              "  .colab-df-quickchart:hover {\n",
              "    background-color: var(--hover-bg-color);\n",
              "    box-shadow: 0 1px 2px rgba(60, 64, 67, 0.3), 0 1px 3px 1px rgba(60, 64, 67, 0.15);\n",
              "    fill: var(--button-hover-fill-color);\n",
              "  }\n",
              "\n",
              "  .colab-df-quickchart-complete:disabled,\n",
              "  .colab-df-quickchart-complete:disabled:hover {\n",
              "    background-color: var(--disabled-bg-color);\n",
              "    fill: var(--disabled-fill-color);\n",
              "    box-shadow: none;\n",
              "  }\n",
              "\n",
              "  .colab-df-spinner {\n",
              "    border: 2px solid var(--fill-color);\n",
              "    border-color: transparent;\n",
              "    border-bottom-color: var(--fill-color);\n",
              "    animation:\n",
              "      spin 1s steps(1) infinite;\n",
              "  }\n",
              "\n",
              "  @keyframes spin {\n",
              "    0% {\n",
              "      border-color: transparent;\n",
              "      border-bottom-color: var(--fill-color);\n",
              "      border-left-color: var(--fill-color);\n",
              "    }\n",
              "    20% {\n",
              "      border-color: transparent;\n",
              "      border-left-color: var(--fill-color);\n",
              "      border-top-color: var(--fill-color);\n",
              "    }\n",
              "    30% {\n",
              "      border-color: transparent;\n",
              "      border-left-color: var(--fill-color);\n",
              "      border-top-color: var(--fill-color);\n",
              "      border-right-color: var(--fill-color);\n",
              "    }\n",
              "    40% {\n",
              "      border-color: transparent;\n",
              "      border-right-color: var(--fill-color);\n",
              "      border-top-color: var(--fill-color);\n",
              "    }\n",
              "    60% {\n",
              "      border-color: transparent;\n",
              "      border-right-color: var(--fill-color);\n",
              "    }\n",
              "    80% {\n",
              "      border-color: transparent;\n",
              "      border-right-color: var(--fill-color);\n",
              "      border-bottom-color: var(--fill-color);\n",
              "    }\n",
              "    90% {\n",
              "      border-color: transparent;\n",
              "      border-bottom-color: var(--fill-color);\n",
              "    }\n",
              "  }\n",
              "</style>\n",
              "\n",
              "      <script>\n",
              "        async function quickchart(key) {\n",
              "          const quickchartButtonEl =\n",
              "            document.querySelector('#' + key + ' button');\n",
              "          quickchartButtonEl.disabled = true;  // To prevent multiple clicks.\n",
              "          quickchartButtonEl.classList.add('colab-df-spinner');\n",
              "          try {\n",
              "            const charts = await google.colab.kernel.invokeFunction(\n",
              "                'suggestCharts', [key], {});\n",
              "          } catch (error) {\n",
              "            console.error('Error during call to suggestCharts:', error);\n",
              "          }\n",
              "          quickchartButtonEl.classList.remove('colab-df-spinner');\n",
              "          quickchartButtonEl.classList.add('colab-df-quickchart-complete');\n",
              "        }\n",
              "        (() => {\n",
              "          let quickchartButtonEl =\n",
              "            document.querySelector('#df-a9ef3b46-85f6-49c5-b869-4e48aa7805c7 button');\n",
              "          quickchartButtonEl.style.display =\n",
              "            google.colab.kernel.accessAllowed ? 'block' : 'none';\n",
              "        })();\n",
              "      </script>\n",
              "    </div>\n",
              "\n",
              "    </div>\n",
              "  </div>\n"
            ],
            "application/vnd.google.colaboratory.intrinsic+json": {
              "type": "dataframe",
              "variable_name": "data"
            }
          },
          "metadata": {},
          "execution_count": 50
        }
      ]
    },
    {
      "cell_type": "code",
      "source": [
        "import pandas as pd\n",
        "import numpy as np\n",
        "import matplotlib.pyplot as plt\n",
        "from sklearn.model_selection import train_test_split\n",
        "from sklearn.tree import DecisionTreeClassifier\n",
        "from sklearn.metrics import confusion_matrix, accuracy_score, ConfusionMatrixDisplay\n",
        "\n",
        "# Corrected file path\n",
        "file_path = \"/content/trees_assignment/data/corporate_ratings.csv\"\n",
        "data = pd.read_csv(file_path)"
      ],
      "metadata": {
        "id": "drVzzCcyr0Tg"
      },
      "execution_count": 39,
      "outputs": []
    },
    {
      "cell_type": "code",
      "source": [
        "print(f\"Number of observations: {data.shape[0]}\")\n",
        "print(f\"Number of variables: {data.shape[1]}\")\n",
        "print(\"\\nFirst few rows of data:\")\n",
        "print(data.head())\n",
        "\n",
        "plt.figure(figsize=(8, 5))\n",
        "data['Rating'].value_counts().sort_index().plot(kind='hist', color='skyblue')\n",
        "plt.title('Distribution of Bond Ratings')\n",
        "plt.xlabel('Rating')\n",
        "plt.ylabel('Count')\n",
        "plt.show()"
      ],
      "metadata": {
        "colab": {
          "base_uri": "https://localhost:8080/",
          "height": 1000
        },
        "id": "Jsg0KdmZudVN",
        "outputId": "37140bcb-4845-46eb-ad84-219a7049cdc7"
      },
      "execution_count": 52,
      "outputs": [
        {
          "output_type": "stream",
          "name": "stdout",
          "text": [
            "Number of observations: 2029\n",
            "Number of variables: 31\n",
            "\n",
            "First few rows of data:\n",
            "  Rating                   Name Symbol                  Rating Agency Name  \\\n",
            "0      A  Whirlpool Corporation    WHR          Egan-Jones Ratings Company   \n",
            "1    BBB  Whirlpool Corporation    WHR          Egan-Jones Ratings Company   \n",
            "2    BBB  Whirlpool Corporation    WHR                       Fitch Ratings   \n",
            "3    BBB  Whirlpool Corporation    WHR                       Fitch Ratings   \n",
            "4    BBB  Whirlpool Corporation    WHR  Standard & Poor's Ratings Services   \n",
            "\n",
            "         Date             Sector  currentRatio  quickRatio  cashRatio  \\\n",
            "0  11/27/2015  Consumer Durables      0.945894    0.426395   0.099690   \n",
            "1   2/13/2014  Consumer Durables      1.033559    0.498234   0.203120   \n",
            "2    3/6/2015  Consumer Durables      0.963703    0.451505   0.122099   \n",
            "3   6/15/2012  Consumer Durables      1.019851    0.510402   0.176116   \n",
            "4  10/24/2016  Consumer Durables      0.957844    0.495432   0.141608   \n",
            "\n",
            "   daysOfSalesOutstanding  ...  effectiveTaxRate  \\\n",
            "0               44.203245  ...          0.202716   \n",
            "1               38.991156  ...          0.074155   \n",
            "2               50.841385  ...          0.214529   \n",
            "3               41.161738  ...          1.816667   \n",
            "4               47.761126  ...          0.166966   \n",
            "\n",
            "   freeCashFlowOperatingCashFlowRatio  freeCashFlowPerShare  cashPerShare  \\\n",
            "0                            0.437551              6.810673      9.809403   \n",
            "1                            0.541997              8.625473     17.402270   \n",
            "2                            0.513185              9.693487     13.103448   \n",
            "3                           -0.147170             -1.015625     14.440104   \n",
            "4                            0.451372              7.135348     14.257556   \n",
            "\n",
            "   companyEquityMultiplier  ebitPerRevenue  enterpriseValueMultiple  \\\n",
            "0                 4.008012        0.049351                 7.057088   \n",
            "1                 3.156783        0.048857                 6.460618   \n",
            "2                 4.094575        0.044334                10.491970   \n",
            "3                 3.630950       -0.012858                 4.080741   \n",
            "4                 4.012780        0.053770                 8.293505   \n",
            "\n",
            "   operatingCashFlowPerShare  operatingCashFlowSalesRatio  payablesTurnover  \n",
            "0                  15.565438                     0.058638          3.906655  \n",
            "1                  15.914250                     0.067239          4.002846  \n",
            "2                  18.888889                     0.074426          3.483510  \n",
            "3                   6.901042                     0.028394          4.581150  \n",
            "4                  15.808147                     0.058065          3.857790  \n",
            "\n",
            "[5 rows x 31 columns]\n"
          ]
        },
        {
          "output_type": "display_data",
          "data": {
            "text/plain": [
              "<Figure size 800x500 with 1 Axes>"
            ],
            "image/png": "[encoded data removed]"
          },
          "metadata": {}
        }
      ]
    },
    {
      "cell_type": "code",
      "source": [
        "import matplotlib.pyplot as plt\n",
        "\n",
        " collapse_map = {\n",
        "    'AAA': 'A', 'AA': 'A', 'A': 'A',\n",
        "    'BBB': 'B', 'BB': 'B', 'B': 'B',\n",
        "    'CCC': 'C', 'CC': 'C', 'C': 'C'\n",
        "}\n",
        "data['Collapsed_Rating'] = data['Rating'].replace(collapse_map)\n",
        "\n",
        " rating_codes = {'A': 0, 'B': 1, 'C': 2, 'D': 3}  # include D if present\n",
        "data['Rating_Code'] = data['Collapsed_Rating'].map(rating_codes)\n",
        "\n",
        " plt.figure(figsize=(8,5))\n",
        "data['Rating_Code'].plot(kind='hist', bins=np.arange(-0.5, 4.5, 1), rwidth=0.8, color='skyblue')\n",
        "plt.xticks(list(rating_codes.values()), list(rating_codes.keys()))\n",
        "plt.xlabel('Rating')\n",
        "plt.ylabel('Count')\n",
        "plt.title('Histogram of Collapsed Bond Ratings')\n",
        "plt.show()\n"
      ],
      "metadata": {
        "colab": {
          "base_uri": "https://localhost:8080/",
          "height": 452
        },
        "id": "H5-bRJ1TxaAH",
        "outputId": "d8dbeb61-09c9-4c95-dd61-1dccde615127"
      },
      "execution_count": 55,
      "outputs": [
        {
          "output_type": "display_data",
          "data": {
            "text/plain": [
              "<Figure size 800x500 with 1 Axes>"
            ],
            "image/png": "[encoded data removed]"
          },
          "metadata": {}
        }
      ]
    },
    {
      "cell_type": "code",
      "source": [
        "import pandas as pd\n",
        "import numpy as np\n",
        "import matplotlib.pyplot as plt\n",
        "from sklearn.model_selection import train_test_split\n",
        "from sklearn.tree import DecisionTreeClassifier\n",
        "from sklearn.metrics import confusion_matrix, accuracy_score, ConfusionMatrixDisplay\n",
        "\n",
        "# Corrected file path\n",
        "file_path = \"/content/trees_assignment/data/corporate_ratings.csv\"\n",
        "data = pd.read_csv(file_path)\n",
        "\n",
        "collapse_map = {\n",
        "    'AAA': 'A', 'AA': 'A', 'A': 'A',\n",
        "    'BBB': 'B', 'BB': 'B', 'B': 'B',\n",
        "    'CCC': 'C', 'CC': 'C', 'C': 'C'\n",
        "}\n",
        "\n",
        "data['Collapsed_Rating'] = data['Rating'].replace(collapse_map)\n",
        "\n",
        "data = data.dropna(subset=['Collapsed_Rating'])\n",
        "\n",
        "drop_cols = ['Rating', 'Date', 'Name', 'Symbol', 'Rating Agency Name']\n",
        "X = data.drop(columns=drop_cols, errors='ignore')\n",
        "y = data['Collapsed_Rating']\n",
        "\n",
        "if 'Sector' in X.columns:\n",
        "    X = pd.get_dummies(X, columns=['Sector'], drop_first=True)\n",
        "\n",
        "X = X.select_dtypes(include=[np.number]).fillna(0)\n",
        "\n",
        "X_train, X_test, y_train, y_test = train_test_split(X, y, test_size=0.2, random_state=42) # Removed stratify=y\n",
        "\n",
        "clf = DecisionTreeClassifier(random_state=42, min_samples_leaf=5)\n",
        "clf.fit(X_train, y_train)\n",
        "\n",
        "y_pred = clf.predict(X_test)\n",
        "\n",
        "acc = accuracy_score(y_test, y_pred)\n",
        "print(f\"\\nAccuracy (without Rating Agency): {acc:.3f}\")"
      ],
      "metadata": {
        "colab": {
          "base_uri": "https://localhost:8080/"
        },
        "id": "Hz1_x0qLuu-G",
        "outputId": "3b443f5f-0c72-4708-d233-99f58ce66546"
      },
      "execution_count": 45,
      "outputs": [
        {
          "output_type": "stream",
          "name": "stdout",
          "text": [
            "\n",
            "Accuracy (without Rating Agency): 0.714\n"
          ]
        }
      ]
    },
    {
      "cell_type": "code",
      "source": [
        "cm = confusion_matrix(y_test, y_pred, labels=clf.classes_)\n",
        "disp = ConfusionMatrixDisplay(confusion_matrix=cm, display_labels=clf.classes_)\n",
        "disp.plot(cmap='Blues', values_format='d')\n",
        "plt.title(\"Confusion Matrix - Without Rating Agency\")\n",
        "plt.show()\n",
        "\n",
        "data2 = data.copy()\n",
        "collapse_map = {\n",
        "    'AAA': 'A', 'AA': 'A', 'A': 'A',\n",
        "    'BBB': 'B', 'BB': 'B', 'B': 'B',\n",
        "    'CCC': 'C', 'CC': 'C', 'C': 'C'\n",
        "}\n",
        "data2['Collapsed_Rating'] = data2['Rating'].replace(collapse_map)\n",
        "data2 = data2.dropna(subset=['Collapsed_Rating'])"
      ],
      "metadata": {
        "colab": {
          "base_uri": "https://localhost:8080/",
          "height": 472
        },
        "id": "PQCh1Tawu6Eq",
        "outputId": "b8e86606-2f1f-4f3e-c365-d7f14bc44370"
      },
      "execution_count": 48,
      "outputs": [
        {
          "output_type": "display_data",
          "data": {
            "text/plain": [
              "<Figure size 640x480 with 2 Axes>"
            ],
            "image/png": "[encoded data removed]"
          },
          "metadata": {}
        }
      ]
    },
    {
      "cell_type": "code",
      "execution_count": 49,
      "metadata": {
        "colab": {
          "base_uri": "https://localhost:8080/",
          "height": 579
        },
        "id": "7Qcp2sjNkjbx",
        "outputId": "6ad25c43-ce9d-4dc6-931c-44c379115b82"
      },
      "outputs": [
        {
          "output_type": "stream",
          "name": "stdout",
          "text": [
            "\n",
            "Accuracy (with Rating Agency): 0.714\n"
          ]
        },
        {
          "output_type": "display_data",
          "data": {
            "text/plain": [
              "<Figure size 640x480 with 2 Axes>"
            ],
            "image/png": "[encoded data removed]"
          },
          "metadata": {}
        },
        {
          "output_type": "stream",
          "name": "stdout",
          "text": [
            "\n",
            "--- Interpretation ---\n",
            "Including the rating agency did not improve accuracy, meaning the model mainly relies on business fundamentals.\n"
          ]
        }
      ],
      "source": [
        "\n",
        "X2 = data2.drop(columns=['Rating', 'Date', 'Name', 'Symbol'])\n",
        "y2 = data2['Collapsed_Rating']\n",
        "\n",
        "cat_cols = [col for col in ['Sector', 'Rating Agency Name'] if col in X2.columns]\n",
        "X2 = pd.get_dummies(X2, columns=cat_cols, drop_first=True)\n",
        "X2 = X2.select_dtypes(include=[np.number]).fillna(0)\n",
        "\n",
        "X2_train, X2_test, y2_train, y2_test = train_test_split(X2, y2, test_size=0.2, random_state=42) # Removed stratify=y\n",
        "\n",
        "clf2 = DecisionTreeClassifier(random_state=42, min_samples_leaf=5)\n",
        "clf2.fit(X2_train, y2_train)\n",
        "y2_pred = clf2.predict(X2_test)\n",
        "\n",
        "acc2 = accuracy_score(y2_test, y2_pred)\n",
        "print(f\"\\nAccuracy (with Rating Agency): {acc2:.3f}\")\n",
        "\n",
        "cm2 = confusion_matrix(y2_test, y2_pred, labels=clf2.classes_)\n",
        "disp2 = ConfusionMatrixDisplay(confusion_matrix=cm2, display_labels=clf2.classes_)\n",
        "disp2.plot(cmap='Greens', values_format='d')\n",
        "plt.title(\"Confusion Matrix - With Rating Agency\")\n",
        "plt.show()\n",
        "\n",
        "print(\"\\n--- Interpretation ---\")\n",
        "if acc2 > acc:\n",
        "    print(\"Including the rating agency slightly improved accuracy, suggesting that different agencies may have distinct rating patterns.\")\n",
        "else:\n",
        "    print(\"Including the rating agency did not improve accuracy, meaning the model mainly relies on business fundamentals.\")"
      ]
    }
  ],
  "metadata": {
    "kernelspec": {
      "display_name": "Python 3 (ipykernel)",
      "language": "python",
      "name": "python3"
    },
    "language_info": {
      "codemirror_mode": {
        "name": "ipython",
        "version": 3
      },
      "file_extension": ".py",
      "mimetype": "text/x-python",
      "name": "python",
      "nbconvert_exporter": "python",
      "pygments_lexer": "ipython3",
      "version": "3.10.18"
    },
    "colab": {
      "provenance": [],
      "include_colab_link": true
    }
  },
  "nbformat": 4,
  "nbformat_minor": 0
}